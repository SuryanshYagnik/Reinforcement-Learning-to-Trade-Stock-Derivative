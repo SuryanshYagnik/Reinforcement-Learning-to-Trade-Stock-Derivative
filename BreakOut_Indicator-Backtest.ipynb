{
 "cells": [
  {
   "cell_type": "markdown",
   "id": "2f8ac63d",
   "metadata": {},
   "source": [
    "# Channel Break Out Detection"
   ]
  },
  {
   "cell_type": "markdown",
   "id": "19fc0ae8",
   "metadata": {},
   "source": [
    "## Import Data"
   ]
  },
  {
   "cell_type": "code",
   "execution_count": 97,
   "id": "d0b18050",
   "metadata": {},
   "outputs": [],
   "source": [
    "import pandas as pd\n",
    "import numpy as np\n",
    "import plotly.graph_objects as go\n",
    "from scipy import stats"
   ]
  },
  {
   "cell_type": "code",
   "execution_count": 98,
   "id": "16667b19",
   "metadata": {},
   "outputs": [],
   "source": [
    "df = pd.read_csv(\"EURUSD_Candlestick_1_D_BID_04.05.2003-21.01.2023.csv\")"
   ]
  },
  {
   "cell_type": "code",
   "execution_count": 99,
   "id": "69af3b7e",
   "metadata": {},
   "outputs": [],
   "source": [
    "backcandles = 45"
   ]
  },
  {
   "cell_type": "markdown",
   "id": "b4e06d87",
   "metadata": {},
   "source": [
    "## Detect Pivots/Fractals"
   ]
  },
  {
   "cell_type": "code",
   "execution_count": 100,
   "id": "d17dc561",
   "metadata": {},
   "outputs": [],
   "source": [
    "def isPivot(candle, window):\n",
    "    \"\"\"\n",
    "    function that detects if a candle is a pivot/fractal point\n",
    "    args: candle index, window before and after candle to test if pivot\n",
    "    returns: 1 if pivot high, 2 if pivot low, 3 if both and 0 default\n",
    "    \"\"\"\n",
    "    if candle-window < 0 or candle+window >= len(df):\n",
    "        return 0\n",
    "    \n",
    "    pivotHigh = 1\n",
    "    pivotLow = 2\n",
    "    for i in range(candle-window, candle+window+1):\n",
    "        if df.iloc[candle].Low > df.iloc[i].Low:\n",
    "            pivotLow=0\n",
    "        if df.iloc[candle].High < df.iloc[i].High:\n",
    "            pivotHigh=0\n",
    "    if (pivotHigh and pivotLow):\n",
    "        return 3\n",
    "    elif pivotHigh:\n",
    "        return pivotHigh\n",
    "    elif pivotLow:\n",
    "        return pivotLow\n",
    "    else:\n",
    "        return 0"
   ]
  },
  {
   "cell_type": "code",
   "execution_count": 101,
   "id": "fbe84b73",
   "metadata": {},
   "outputs": [],
   "source": [
    "window=3\n",
    "df['isPivot'] = df.apply(lambda x: isPivot(x.name,window), axis=1)"
   ]
  },
  {
   "cell_type": "markdown",
   "id": "0ccc0ac7",
   "metadata": {},
   "source": [
    "## Detect Price Channel"
   ]
  },
  {
   "cell_type": "code",
   "execution_count": 102,
   "id": "34dd5d97",
   "metadata": {},
   "outputs": [],
   "source": [
    "def collect_channel(candle, backcandles, window):\n",
    "    localdf = df[candle-backcandles-window:candle-window]\n",
    "    #localdf['isPivot'] = localdf.apply(lambda x: isPivot(x.name,window), axis=1)\n",
    "    highs = localdf[localdf['isPivot']==1].High.values\n",
    "    idxhighs = localdf[localdf['isPivot']==1].High.index\n",
    "    lows = localdf[localdf['isPivot']==2].Low.values\n",
    "    idxlows = localdf[localdf['isPivot']==2].Low.index\n",
    "    \n",
    "    if len(lows)>=3 and len(highs)>=3:\n",
    "        sl_lows, interc_lows, r_value_l, _, _ = stats.linregress(idxlows,lows)\n",
    "        sl_highs, interc_highs, r_value_h, _, _ = stats.linregress(idxhighs,highs)\n",
    "    \n",
    "        return(sl_lows, interc_lows, sl_highs, interc_highs, r_value_l**2, r_value_h**2)\n",
    "    else:\n",
    "        return(0,0,0,0,0,0)"
   ]
  },
  {
   "cell_type": "code",
   "execution_count": 103,
   "id": "8114a922",
   "metadata": {},
   "outputs": [],
   "source": [
    "df['Channel'] = [collect_channel(candle, backcandles, window) for candle in df.index]"
   ]
  },
  {
   "cell_type": "markdown",
   "id": "3984952f",
   "metadata": {},
   "source": [
    "## Detect Break Out"
   ]
  },
  {
   "cell_type": "code",
   "execution_count": 104,
   "id": "e1615b1e",
   "metadata": {},
   "outputs": [],
   "source": [
    "def isBreakOut(candle, backcandles, window):\n",
    "    if (candle-backcandles-window)<0:\n",
    "        return 0\n",
    "    \n",
    "    sl_lows, interc_lows, sl_highs, interc_highs, r_sq_l, r_sq_h = df.iloc[candle].Channel\n",
    "    \n",
    "    prev_idx = candle-1\n",
    "    prev_high = df.iloc[candle-1].High\n",
    "    prev_low = df.iloc[candle-1].Low\n",
    "    prev_close = df.iloc[candle-1].Close\n",
    "    \n",
    "    curr_idx = candle\n",
    "    curr_high = df.iloc[candle].High\n",
    "    curr_low = df.iloc[candle].Low\n",
    "    curr_close = df.iloc[candle].Close\n",
    "    curr_open = df.iloc[candle].Open\n",
    "\n",
    "    if ( prev_high > (sl_lows*prev_idx + interc_lows) and\n",
    "        prev_close < (sl_lows*prev_idx + interc_lows) and\n",
    "        curr_open < (sl_lows*curr_idx + interc_lows) and\n",
    "        curr_close < (sl_lows*prev_idx + interc_lows)): #and r_sq_l > 0.9\n",
    "        return 1\n",
    "    \n",
    "    elif ( prev_low < (sl_highs*prev_idx + interc_highs) and\n",
    "        prev_close > (sl_highs*prev_idx + interc_highs) and\n",
    "        curr_open > (sl_highs*curr_idx + interc_highs) and\n",
    "        curr_close > (sl_highs*prev_idx + interc_highs)): #and r_sq_h > 0.9\n",
    "        return 2\n",
    "    \n",
    "    else:\n",
    "        return 0"
   ]
  },
  {
   "cell_type": "code",
   "execution_count": 105,
   "id": "0e9b7fe2",
   "metadata": {},
   "outputs": [],
   "source": [
    "df[\"isBreakOut\"] = [isBreakOut(candle, backcandles, window) for candle in df.index]"
   ]
  },
  {
   "cell_type": "code",
   "execution_count": 106,
   "id": "4f94100d",
   "metadata": {},
   "outputs": [],
   "source": [
    "def SIGNAL():\n",
    "    return df.isBreakOut"
   ]
  },
  {
   "cell_type": "code",
   "execution_count": 124,
   "id": "20ce6e10",
   "metadata": {},
   "outputs": [
    {
     "name": "stderr",
     "output_type": "stream",
     "text": [
      "C:\\Users\\Public\\Documents\\Wondershare\\CreatorTemp\\ipykernel_4460\\1909120538.py:30: UserWarning: Data index is not datetime. Assuming simple periods, but `pd.DateTimeIndex` is advised.\n",
      "  bt = Backtest(df, BreakOut, cash=1000, margin=1/50, commission=.000)\n"
     ]
    },
    {
     "data": {
      "text/plain": [
       "Start                                     0.0\n",
       "End                                    7202.0\n",
       "Duration                               7202.0\n",
       "Exposure Time [%]                   46.036374\n",
       "Equity Final [$]                  2400.275022\n",
       "Equity Peak [$]                   2400.275022\n",
       "Return [%]                         140.027502\n",
       "Buy & Hold Return [%]               -3.227273\n",
       "Return (Ann.) [%]                         0.0\n",
       "Volatility (Ann.) [%]                     NaN\n",
       "Sharpe Ratio                              NaN\n",
       "Sortino Ratio                             NaN\n",
       "Calmar Ratio                              0.0\n",
       "Max. Drawdown [%]                  -77.336678\n",
       "Avg. Drawdown [%]                   -8.597757\n",
       "Max. Drawdown Duration                 4228.0\n",
       "Avg. Drawdown Duration             332.190476\n",
       "# Trades                                338.0\n",
       "Win Rate [%]                        47.633136\n",
       "Best Trade [%]                       4.849234\n",
       "Worst Trade [%]                     -4.553677\n",
       "Avg. Trade [%]                       0.089677\n",
       "Max. Trade Duration                     127.0\n",
       "Avg. Trade Duration                  8.810651\n",
       "Profit Factor                        1.187068\n",
       "Expectancy [%]                       0.099298\n",
       "SQN                                  1.143954\n",
       "_strategy                            BreakOut\n",
       "_equity_curve                        Equit...\n",
       "_trades                         Size  Entr...\n",
       "dtype: object"
      ]
     },
     "execution_count": 124,
     "metadata": {},
     "output_type": "execute_result"
    }
   ],
   "source": [
    "from backtesting import Strategy\n",
    "from backtesting import Backtest\n",
    "import backtesting\n",
    "\n",
    "class BreakOut(Strategy):\n",
    "    initsize = 0.1\n",
    "    mysize = initsize\n",
    "    def init(self):\n",
    "        super().init()\n",
    "        self.signal1 = self.I(SIGNAL)\n",
    "\n",
    "    def next(self):\n",
    "        super().next()\n",
    "        TPSLRatio = 1.2\n",
    "\n",
    "        if self.signal1==2 and len(self.trades)==0:   \n",
    "            sl1 = self.data.Low[-2]\n",
    "            tp1 = self.data.Close[-1] + abs(self.data.Close[-1]-sl1)*TPSLRatio\n",
    "            #tp2 = self.data.Close[-1] + abs(self.data.Close[-1]-sl1)*TPSLRatio/3\n",
    "            self.buy(sl=sl1, tp=tp1, size=self.mysize)\n",
    "            #self.buy(sl=sl1, tp=tp2, size=self.mysize)\n",
    "        \n",
    "        elif self.signal1==1 and len(self.trades)==0:         \n",
    "            sl1 = self.data.High[-2]\n",
    "            tp1 = self.data.Close[-1] - abs(sl1-self.data.Close[-1])*TPSLRatio\n",
    "            #tp2 = self.data.Close[-1] - abs(sl1-self.data.Close[-1])*TPSLRatio/3\n",
    "            self.sell(sl=sl1, tp=tp1, size=self.mysize)\n",
    "            #self.sell(sl=sl1, tp=tp2, size=self.mysize)\n",
    "\n",
    "bt = Backtest(df, BreakOut, cash=1000, margin=1/50, commission=.000)\n",
    "stat = bt.run()\n",
    "stat"
   ]
  },
  {
   "cell_type": "code",
   "execution_count": 110,
   "id": "09dfb8cf",
   "metadata": {},
   "outputs": [
    {
     "data": {
      "text/html": [
       "<div style=\"display: table;\"><div style=\"display: table-row;\"><div style=\"display: table-cell;\"><b title=\"bokeh.models.layouts.Row\">Row</b>(</div><div style=\"display: table-cell;\">id&nbsp;=&nbsp;'17848', <span id=\"18566\" style=\"cursor: pointer;\">&hellip;)</span></div></div><div class=\"18565\" style=\"display: none;\"><div style=\"display: table-cell;\"></div><div style=\"display: table-cell;\">align&nbsp;=&nbsp;'start',</div></div><div class=\"18565\" style=\"display: none;\"><div style=\"display: table-cell;\"></div><div style=\"display: table-cell;\">aspect_ratio&nbsp;=&nbsp;None,</div></div><div class=\"18565\" style=\"display: none;\"><div style=\"display: table-cell;\"></div><div style=\"display: table-cell;\">background&nbsp;=&nbsp;None,</div></div><div class=\"18565\" style=\"display: none;\"><div style=\"display: table-cell;\"></div><div style=\"display: table-cell;\">children&nbsp;=&nbsp;[GridBox(id='17845', ...), ToolbarBox(id='17847', ...)],</div></div><div class=\"18565\" style=\"display: none;\"><div style=\"display: table-cell;\"></div><div style=\"display: table-cell;\">cols&nbsp;=&nbsp;'auto',</div></div><div class=\"18565\" style=\"display: none;\"><div style=\"display: table-cell;\"></div><div style=\"display: table-cell;\">css_classes&nbsp;=&nbsp;[],</div></div><div class=\"18565\" style=\"display: none;\"><div style=\"display: table-cell;\"></div><div style=\"display: table-cell;\">disabled&nbsp;=&nbsp;False,</div></div><div class=\"18565\" style=\"display: none;\"><div style=\"display: table-cell;\"></div><div style=\"display: table-cell;\">height&nbsp;=&nbsp;None,</div></div><div class=\"18565\" style=\"display: none;\"><div style=\"display: table-cell;\"></div><div style=\"display: table-cell;\">height_policy&nbsp;=&nbsp;'auto',</div></div><div class=\"18565\" style=\"display: none;\"><div style=\"display: table-cell;\"></div><div style=\"display: table-cell;\">js_event_callbacks&nbsp;=&nbsp;{},</div></div><div class=\"18565\" style=\"display: none;\"><div style=\"display: table-cell;\"></div><div style=\"display: table-cell;\">js_property_callbacks&nbsp;=&nbsp;{},</div></div><div class=\"18565\" style=\"display: none;\"><div style=\"display: table-cell;\"></div><div style=\"display: table-cell;\">margin&nbsp;=&nbsp;(0, 0, 0, 0),</div></div><div class=\"18565\" style=\"display: none;\"><div style=\"display: table-cell;\"></div><div style=\"display: table-cell;\">max_height&nbsp;=&nbsp;None,</div></div><div class=\"18565\" style=\"display: none;\"><div style=\"display: table-cell;\"></div><div style=\"display: table-cell;\">max_width&nbsp;=&nbsp;None,</div></div><div class=\"18565\" style=\"display: none;\"><div style=\"display: table-cell;\"></div><div style=\"display: table-cell;\">min_height&nbsp;=&nbsp;None,</div></div><div class=\"18565\" style=\"display: none;\"><div style=\"display: table-cell;\"></div><div style=\"display: table-cell;\">min_width&nbsp;=&nbsp;None,</div></div><div class=\"18565\" style=\"display: none;\"><div style=\"display: table-cell;\"></div><div style=\"display: table-cell;\">name&nbsp;=&nbsp;None,</div></div><div class=\"18565\" style=\"display: none;\"><div style=\"display: table-cell;\"></div><div style=\"display: table-cell;\">sizing_mode&nbsp;=&nbsp;'stretch_width',</div></div><div class=\"18565\" style=\"display: none;\"><div style=\"display: table-cell;\"></div><div style=\"display: table-cell;\">spacing&nbsp;=&nbsp;0,</div></div><div class=\"18565\" style=\"display: none;\"><div style=\"display: table-cell;\"></div><div style=\"display: table-cell;\">subscribed_events&nbsp;=&nbsp;[],</div></div><div class=\"18565\" style=\"display: none;\"><div style=\"display: table-cell;\"></div><div style=\"display: table-cell;\">syncable&nbsp;=&nbsp;True,</div></div><div class=\"18565\" style=\"display: none;\"><div style=\"display: table-cell;\"></div><div style=\"display: table-cell;\">tags&nbsp;=&nbsp;[],</div></div><div class=\"18565\" style=\"display: none;\"><div style=\"display: table-cell;\"></div><div style=\"display: table-cell;\">visible&nbsp;=&nbsp;True,</div></div><div class=\"18565\" style=\"display: none;\"><div style=\"display: table-cell;\"></div><div style=\"display: table-cell;\">width&nbsp;=&nbsp;None,</div></div><div class=\"18565\" style=\"display: none;\"><div style=\"display: table-cell;\"></div><div style=\"display: table-cell;\">width_policy&nbsp;=&nbsp;'auto')</div></div></div>\n",
       "<script>\n",
       "(function() {\n",
       "  let expanded = false;\n",
       "  const ellipsis = document.getElementById(\"18566\");\n",
       "  ellipsis.addEventListener(\"click\", function() {\n",
       "    const rows = document.getElementsByClassName(\"18565\");\n",
       "    for (let i = 0; i < rows.length; i++) {\n",
       "      const el = rows[i];\n",
       "      el.style.display = expanded ? \"none\" : \"table-row\";\n",
       "    }\n",
       "    ellipsis.innerHTML = expanded ? \"&hellip;)\" : \"&lsaquo;&lsaquo;&lsaquo;\";\n",
       "    expanded = !expanded;\n",
       "  });\n",
       "})();\n",
       "</script>\n"
      ],
      "text/plain": [
       "Row(id='17848', ...)"
      ]
     },
     "execution_count": 110,
     "metadata": {},
     "output_type": "execute_result"
    }
   ],
   "source": [
    "bt.plot()"
   ]
  },
  {
   "cell_type": "code",
   "execution_count": 123,
   "id": "06b418c7",
   "metadata": {},
   "outputs": [],
   "source": [
    "df =df.reset_index()"
   ]
  },
  {
   "cell_type": "code",
   "execution_count": 122,
   "id": "eaccc72d",
   "metadata": {},
   "outputs": [],
   "source": [
    "df = df.drop(\"Gmt time\", axis=1)"
   ]
  },
  {
   "cell_type": "code",
   "execution_count": null,
   "id": "3876f4c3",
   "metadata": {},
   "outputs": [],
   "source": []
  }
 ],
 "metadata": {
  "kernelspec": {
   "display_name": "Python 3",
   "language": "python",
   "name": "python3"
  },
  "language_info": {
   "codemirror_mode": {
    "name": "ipython",
    "version": 3
   },
   "file_extension": ".py",
   "mimetype": "text/x-python",
   "name": "python",
   "nbconvert_exporter": "python",
   "pygments_lexer": "ipython3",
   "version": "3.10.8"
  },
  "vscode": {
   "interpreter": {
    "hash": "c0ff92a541b5eb8a0f75470c34280cf0dea79e8b819847822bd36e33345fddf3"
   }
  }
 },
 "nbformat": 4,
 "nbformat_minor": 5
}
