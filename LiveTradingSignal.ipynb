{
 "cells": [
  {
   "cell_type": "code",
   "execution_count": 1,
   "id": "8326f7d8",
   "metadata": {},
   "outputs": [],
   "source": [
    "import yfinance as yf\n",
    "\n",
    "def get_data(symbol=\"AAPL\"):\n",
    "    # Define the ticker symbol\n",
    "    ticker_symbol = symbol\n",
    "\n",
    "    # Create a ticker object\n",
    "    ticker = yf.Ticker(ticker_symbol)\n",
    "\n",
    "    # Download historical data\n",
    "    return ticker.history(period=\"2d\", interval='1d')"
   ]
  },
  {
   "cell_type": "code",
   "execution_count": 2,
   "id": "6b68f334",
   "metadata": {},
   "outputs": [
    {
     "data": {
      "text/html": [
       "<div>\n",
       "<style scoped>\n",
       "    .dataframe tbody tr th:only-of-type {\n",
       "        vertical-align: middle;\n",
       "    }\n",
       "\n",
       "    .dataframe tbody tr th {\n",
       "        vertical-align: top;\n",
       "    }\n",
       "\n",
       "    .dataframe thead th {\n",
       "        text-align: right;\n",
       "    }\n",
       "</style>\n",
       "<table border=\"1\" class=\"dataframe\">\n",
       "  <thead>\n",
       "    <tr style=\"text-align: right;\">\n",
       "      <th></th>\n",
       "      <th>Open</th>\n",
       "      <th>High</th>\n",
       "      <th>Low</th>\n",
       "      <th>Close</th>\n",
       "      <th>Volume</th>\n",
       "      <th>Dividends</th>\n",
       "      <th>Stock Splits</th>\n",
       "    </tr>\n",
       "    <tr>\n",
       "      <th>Date</th>\n",
       "      <th></th>\n",
       "      <th></th>\n",
       "      <th></th>\n",
       "      <th></th>\n",
       "      <th></th>\n",
       "      <th></th>\n",
       "      <th></th>\n",
       "    </tr>\n",
       "  </thead>\n",
       "  <tbody>\n",
       "    <tr>\n",
       "      <th>2023-08-17 00:00:00-04:00</th>\n",
       "      <td>177.139999</td>\n",
       "      <td>177.509995</td>\n",
       "      <td>173.479996</td>\n",
       "      <td>174.000000</td>\n",
       "      <td>66062900</td>\n",
       "      <td>0</td>\n",
       "      <td>0</td>\n",
       "    </tr>\n",
       "    <tr>\n",
       "      <th>2023-08-18 00:00:00-04:00</th>\n",
       "      <td>172.300003</td>\n",
       "      <td>175.100006</td>\n",
       "      <td>171.960007</td>\n",
       "      <td>174.490005</td>\n",
       "      <td>61114200</td>\n",
       "      <td>0</td>\n",
       "      <td>0</td>\n",
       "    </tr>\n",
       "  </tbody>\n",
       "</table>\n",
       "</div>"
      ],
      "text/plain": [
       "                                 Open        High         Low       Close  \\\n",
       "Date                                                                        \n",
       "2023-08-17 00:00:00-04:00  177.139999  177.509995  173.479996  174.000000   \n",
       "2023-08-18 00:00:00-04:00  172.300003  175.100006  171.960007  174.490005   \n",
       "\n",
       "                             Volume  Dividends  Stock Splits  \n",
       "Date                                                          \n",
       "2023-08-17 00:00:00-04:00  66062900          0             0  \n",
       "2023-08-18 00:00:00-04:00  61114200          0             0  "
      ]
     },
     "execution_count": 2,
     "metadata": {},
     "output_type": "execute_result"
    }
   ],
   "source": [
    "# Download Recent historical Data\n",
    "historical_data = get_data()\n",
    "historical_data"
   ]
  },
  {
   "cell_type": "code",
   "execution_count": 3,
   "id": "1ea45f7a",
   "metadata": {},
   "outputs": [],
   "source": [
    "def test_engulfing(df):\n",
    "    last_open = df.iloc[-1, :].Open\n",
    "    last_close = df.iloc[-1, :].Close\n",
    "    previous_open = df.iloc[-2, :].Open\n",
    "    previous_close = df.iloc[-2, :].Close\n",
    "\n",
    "    if (previous_open < previous_close \n",
    "        and last_open > previous_close \n",
    "        and last_close < previous_open):\n",
    "        return 1  # Bearish Engulfing Pattern\n",
    "    \n",
    "    elif (previous_open > previous_close\n",
    "          and last_open < previous_close \n",
    "          and last_close > previous_open):\n",
    "        return 2  # Bullish Engulfing Pattern\n",
    "    else:\n",
    "        return 0  # No Engulfing Pattern"
   ]
  },
  {
   "cell_type": "code",
   "execution_count": 4,
   "id": "dd823349",
   "metadata": {},
   "outputs": [
    {
     "data": {
      "text/plain": [
       "0"
      ]
     },
     "execution_count": 4,
     "metadata": {},
     "output_type": "execute_result"
    }
   ],
   "source": [
    "test_engulfing(historical_data)"
   ]
  },
  {
   "cell_type": "code",
   "execution_count": 5,
   "id": "875ed90a",
   "metadata": {},
   "outputs": [
    {
     "data": {
      "text/plain": [
       "0"
      ]
     },
     "execution_count": 5,
     "metadata": {},
     "output_type": "execute_result"
    }
   ],
   "source": [
    "#_____________________________________\n",
    "# Test the engulfing function\n",
    "#°°°°°°°°°°°°°°°°°°°°°°°°°°°°°°°°°°°°°\n",
    "\n",
    "# historical_data.iloc[-1, :].Open\n",
    "# historical_data.iloc[-1, -4] = 176\n",
    "# historical_data.iloc[-2, :].Open\n",
    "# historical_data.iloc[-2, :].Close \n",
    "\n",
    "test_engulfing(historical_data)\n",
    "# historical_data"
   ]
  },
  {
   "cell_type": "markdown",
   "id": "d3253e30",
   "metadata": {},
   "source": [
    "# Send Live Signal"
   ]
  },
  {
   "cell_type": "code",
   "execution_count": 6,
   "id": "d4dbb4ad",
   "metadata": {},
   "outputs": [],
   "source": [
    "from apscheduler.schedulers.blocking import BlockingScheduler\n",
    "from email.message import EmailMessage\n",
    "import ssl\n",
    "import smtplib\n",
    "from creds import gmail_user, gmail_password\n",
    "\n",
    "em = EmailMessage()\n",
    "\n",
    "gmail_user = gmail_user\n",
    "gmail_password = gmail_password\n",
    "subject = 'info signal'\n",
    "\n",
    "\n",
    "def some_job():\n",
    "    msg=\"Trading Signal Message \\n\"\n",
    "    historical_data = get_data()\n",
    "        \n",
    "    if test_engulfing(historical_data)==1:\n",
    "        msg = str(\"the signal is 1 bearish\")\n",
    "\n",
    "    elif test_engulfing(historical_data)==2:\n",
    "        msg = str(\"the signal is 2 bullish\")\n",
    "\n",
    "    em['From'] = gmail_user\n",
    "    em['To'] = gmail_user\n",
    "    em['Subject'] = subject\n",
    "    em.set_content(msg)\n",
    "\n",
    "    context = ssl.create_default_context()\n",
    "\n",
    "    server = smtplib.SMTP_SSL('smtp.gmail.com', 465, context=context)\n",
    "    server.ehlo()\n",
    "    server.login(gmail_user, gmail_password)\n",
    "    server.sendmail(gmail_user, gmail_user, em.as_string())\n",
    "    server.close()\n",
    "\n",
    "some_job()\n",
    "\n",
    "###################################################################\n",
    "## Interval time job ##############################################\n",
    "# scheduler = BlockingScheduler(job_defaults={'misfire_grace_time': 15*60})\n",
    "# scheduler.add_job(some_job, 'cron', day_of_week='mon-fri', hour=0, minute=0, timezone=utc)\n",
    "# scheduler.start()"
   ]
  },
  {
   "cell_type": "markdown",
   "id": "099feebc",
   "metadata": {},
   "source": [
    "# Live Signal Multiple Stocks"
   ]
  },
  {
   "cell_type": "code",
   "execution_count": 7,
   "id": "c21da7bc",
   "metadata": {},
   "outputs": [],
   "source": [
    "from apscheduler.schedulers.blocking import BlockingScheduler\n",
    "from email.message import EmailMessage\n",
    "import ssl\n",
    "import smtplib\n",
    "\n",
    "from creds import gmail_user, gmail_password\n",
    "\n",
    "em = EmailMessage()\n",
    "\n",
    "gmail_user = gmail_user\n",
    "gmail_password = gmail_password\n",
    "subject = 'info signal'\n",
    "\n",
    "symbols =  ['AAPL', 'NVDA', 'PYPL']\n",
    "\n",
    "def some_job():\n",
    "    msg=\"Trading Signal Message \\n\"\n",
    "    for symb in symbols:\n",
    "        historical_data = get_data(symb)\n",
    "        if test_engulfing(historical_data)==1:\n",
    "            msg = msg + str(symb+\": the signal is 1 bearish\") + \"\\n\"\n",
    "\n",
    "        elif test_engulfing(historical_data)==2:\n",
    "            msg = msg + str(symb+\": the signal is 2 bullish\") + \"\\n\"\n",
    "    \n",
    "    em['From'] = gmail_user\n",
    "    em['To'] = gmail_user\n",
    "    em['Subject'] = subject\n",
    "    em.set_content(msg)\n",
    "\n",
    "    context = ssl.create_default_context()\n",
    "\n",
    "    server = smtplib.SMTP_SSL('smtp.gmail.com', 465, context=context)\n",
    "    server.ehlo()\n",
    "    server.login(gmail_user, gmail_password)\n",
    "    server.sendmail(gmail_user, gmail_user, em.as_string())\n",
    "    server.close()\n",
    "\n",
    "#some_job()\n",
    "\n",
    "###################################################################\n",
    "## Interval time job ##############################################\n",
    "scheduler = BlockingScheduler(job_defaults={'misfire_grace_time': 15*60})\n",
    "scheduler.add_job(some_job, 'cron', day_of_week='mon-fri', hour=0, minute=0, timezone=utc)\n",
    "scheduler.start()"
   ]
  },
  {
   "cell_type": "code",
   "execution_count": null,
   "id": "797b9c68",
   "metadata": {},
   "outputs": [],
   "source": []
  }
 ],
 "metadata": {
  "kernelspec": {
   "display_name": "Python 3 (ipykernel)",
   "language": "python",
   "name": "python3"
  },
  "language_info": {
   "codemirror_mode": {
    "name": "ipython",
    "version": 3
   },
   "file_extension": ".py",
   "mimetype": "text/x-python",
   "name": "python",
   "nbconvert_exporter": "python",
   "pygments_lexer": "ipython3",
   "version": "3.10.8"
  }
 },
 "nbformat": 4,
 "nbformat_minor": 5
}
